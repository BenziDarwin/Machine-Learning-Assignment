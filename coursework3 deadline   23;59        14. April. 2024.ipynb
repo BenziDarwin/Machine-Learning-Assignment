{
 "cells": [
  {
   "cell_type": "markdown",
   "metadata": {},
   "source": [
    "# Machine  Learning coursework3\n",
    "\n",
    "change the name of your notebook file to your name and reg number. As usual, send the files to the class coordinator, he will zip them and send me a single compressed folder. work submitted past the deadline won't be accepted.  deadline 23:59, 14/04/2023.  Each of you should submit only a single notebook file not a folder.\n"
   ]
  },
  {
   "cell_type": "markdown",
   "metadata": {},
   "source": [
    "You will use the 'coursework3data' dataset given for this coursework. The last column of the file represents the label (class 0 or class 1).  \n",
    "\n",
    "Examine the dataset. Understand the number of samples, features and the classes. Classify given dataset using the following algorithms. \n",
    "one at time. \n",
    "(i)  Decision trees \n",
    "(ii) Random forest \n",
    "(iii) Linear SVM\n",
    "(iv) SVM with RBF kernel\n",
    "(v)  Artificial Nueral Network\n",
    "(vi) Logistic regression \n",
    "Feel free to import and use any libaries you wish. Use default parameters for each algorithm. Use 10 cross validation in all experiments.  Report the test accuracy, precision, recall and F1 score for each algorithm. Plot the classification results for each algorithm. Make sure the figures are well displayed in your notebook file. Comment on the performance of algorithms, which algorithm would you recommend for this task and why?.\n",
    "\n",
    "NB. have comments below codes you implemented.  The dataset has no any issues, it is not a shortcut, you should be able to load and access it in your jupyter notebook without any challenges.\n",
    "\n"
   ]
  }
 ],
 "metadata": {
  "kernelspec": {
   "display_name": "Python 3 (ipykernel)",
   "language": "python",
   "name": "python3"
  },
  "language_info": {
   "codemirror_mode": {
    "name": "ipython",
    "version": 3
   },
   "file_extension": ".py",
   "mimetype": "text/x-python",
   "name": "python",
   "nbconvert_exporter": "python",
   "pygments_lexer": "ipython3",
   "version": "3.11.5"
  }
 },
 "nbformat": 4,
 "nbformat_minor": 4
}
